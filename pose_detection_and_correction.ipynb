{
 "cells": [
  {
   "cell_type": "code",
   "execution_count": 1,
   "metadata": {},
   "outputs": [],
   "source": [
    "# pose_detection_and_correction.py\n",
    "import cv2\n",
    "import mediapipe as mp\n",
    "import numpy as np"
   ]
  },
  {
   "cell_type": "code",
   "execution_count": 2,
   "metadata": {},
   "outputs": [],
   "source": [
    "# Initialize MediaPipe Pose detector\n",
    "mp_pose = mp.solutions.pose\n",
    "pose = mp_pose.Pose(min_detection_confidence=0.5, min_tracking_confidence=0.5)"
   ]
  },
  {
   "cell_type": "code",
   "execution_count": 4,
   "metadata": {},
   "outputs": [],
   "source": [
    "\n",
    "# Function for providing feedback based on pose landmarks\n",
    "def provide_feedback(landmarks):\n",
    "    feedback = []\n",
    "    \n",
    "    # Example: Check arm alignment (can be extended)\n",
    "    shoulder = np.array([landmarks[mp_pose.PoseLandmark.LEFT_SHOULDER.value].x,\n",
    "                         landmarks[mp_pose.PoseLandmark.LEFT_SHOULDER.value].y])\n",
    "    elbow = np.array([landmarks[mp_pose.PoseLandmark.LEFT_ELBOW.value].x,\n",
    "                      landmarks[mp_pose.PoseLandmark.LEFT_ELBOW.value].y])\n",
    "    wrist = np.array([landmarks[mp_pose.PoseLandmark.LEFT_WRIST.value].x,\n",
    "                      landmarks[mp_pose.PoseLandmark.LEFT_WRIST.value].y])\n",
    "\n",
    "    # Calculate angle between shoulder, elbow, and wrist\n",
    "    angle = np.degrees(np.arccos(np.dot(shoulder - elbow, wrist - elbow) /\n",
    "                                 (np.linalg.norm(shoulder - elbow) * np.linalg.norm(wrist - elbow))))\n",
    "\n",
    "    # Feedback based on arm angle\n",
    "    if angle < 160:\n",
    "        feedback.append(\"Your arm is not fully extended. Try to straighten your arm.\")\n",
    "    else:\n",
    "        feedback.append(\"Alignment looks good. Keep practicing!\")\n",
    "\n",
    "    return feedback\n",
    "\n",
    "def detect_pose_and_correct(frame):\n",
    "    # Convert the frame to RGB for MediaPipe\n",
    "    image_rgb = cv2.cvtColor(frame, cv2.COLOR_BGR2RGB)\n",
    "    results = pose.process(image_rgb)\n",
    "\n",
    "    if results.pose_landmarks:\n",
    "        landmarks = results.pose_landmarks.landmark\n",
    "        feedback = provide_feedback(landmarks)\n",
    "\n",
    "        # Draw pose landmarks\n",
    "        mp.solutions.drawing_utils.draw_landmarks(frame, results.pose_landmarks, mp_pose.POSE_CONNECTIONS)\n",
    "\n",
    "        # Display feedback on the frame\n",
    "        cv2.putText(frame, \" \".join(feedback), (50, 50), cv2.FONT_HERSHEY_SIMPLEX, 1, (255, 255, 0), 2)\n",
    "\n",
    "    return frame\n"
   ]
  },
  {
   "cell_type": "code",
   "execution_count": 5,
   "metadata": {},
   "outputs": [],
   "source": [
    "\n",
    "def start_pose_detection():\n",
    "    # Open video capture (webcam)\n",
    "    cap = cv2.VideoCapture(0)\n",
    "\n",
    "    while cap.isOpened():\n",
    "        ret, frame = cap.read()\n",
    "        if not ret:\n",
    "            break\n",
    "\n",
    "        # Perform pose detection and correction\n",
    "        frame = detect_pose_and_correct(frame)\n",
    "\n",
    "        # Show the frame\n",
    "        cv2.imshow(\"Pose Detection & Correction\", frame)\n",
    "\n",
    "        if cv2.waitKey(1) & 0xFF == ord('q'):\n",
    "            break\n",
    "\n",
    "    cap.release()\n",
    "    cv2.destroyAllWindows()\n"
   ]
  }
 ],
 "metadata": {
  "kernelspec": {
   "display_name": "pose",
   "language": "python",
   "name": "python3"
  },
  "language_info": {
   "codemirror_mode": {
    "name": "ipython",
    "version": 3
   },
   "file_extension": ".py",
   "mimetype": "text/x-python",
   "name": "python",
   "nbconvert_exporter": "python",
   "pygments_lexer": "ipython3",
   "version": "3.9.20"
  }
 },
 "nbformat": 4,
 "nbformat_minor": 2
}
