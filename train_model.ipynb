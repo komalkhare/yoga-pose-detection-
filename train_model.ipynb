{
 "cells": [
  {
   "cell_type": "code",
   "execution_count": 101,
   "metadata": {},
   "outputs": [],
   "source": [
    "import os\n",
    "from PIL import Image\n",
    "import cv2\n",
    "\n",
    "# Validate images using OpenCV\n",
    "def validate_images_with_opencv(directory):\n",
    "    invalid_images = []\n",
    "    for subdir, _, files in os.walk(directory):\n",
    "        for file in files:\n",
    "            if file.lower().endswith('.jpg'):\n",
    "                file_path = os.path.join(subdir, file)\n",
    "                img = cv2.imread(file_path)\n",
    "                if img is None:\n",
    "                    invalid_images.append(file_path)\n",
    "                    print(f\"Invalid image file: {file_path}\")\n",
    "                    os.remove(file_path)  # Remove invalid image\n",
    "    return invalid_images\n",
    "\n",
    "# Validate all directories (train, valid, and test)\n",
    "train_dir = 'yoga_combined/train'\n",
    "valid_dir = 'yoga_combined/valid'\n",
    "test_dir = 'yoga_combined/test'\n",
    "\n",
    "# Run validation on each directory\n",
    "train_invalid_images = validate_images_with_opencv(train_dir)\n",
    "valid_invalid_images = validate_images_with_opencv(valid_dir)\n",
    "test_invalid_images = validate_images_with_opencv(test_dir)\n"
   ]
  },
  {
   "cell_type": "code",
   "execution_count": 102,
   "metadata": {},
   "outputs": [],
   "source": [
    "import tensorflow as tf\n",
    "import os\n",
    "\n",
    "def load_image(file_path):\n",
    "    try:\n",
    "        # Load the image, decode and resize\n",
    "        image = tf.io.read_file(file_path)\n",
    "        image = tf.image.decode_jpeg(image, channels=3)  # Decode as RGB\n",
    "        image = tf.image.resize(image, [224, 224])  # Resize to target size\n",
    "        image = image / 255.0  # Normalize pixel values to [0, 1]\n",
    "        return image\n",
    "    except tf.errors.InvalidArgumentError:\n",
    "        return None  # Return None for invalid images\n",
    "\n",
    "def prepare_data(input_dir, batch_size=32):\n",
    "    images = []\n",
    "    labels = []\n",
    "    \n",
    "    # Paths to train, validation, and test directories\n",
    "    for split in ['train', 'valid', 'test']:\n",
    "        split_dir = os.path.join(input_dir, split)\n",
    "        for label, class_name in enumerate(os.listdir(split_dir)):\n",
    "            class_dir = os.path.join(split_dir, class_name)\n",
    "            if os.path.isdir(class_dir):\n",
    "                for file_name in os.listdir(class_dir):\n",
    "                    file_path = os.path.join(class_dir, file_name)\n",
    "                    image = load_image(file_path)\n",
    "                    if image is not None:\n",
    "                        images.append(image)\n",
    "                        labels.append(label)\n",
    "    \n",
    "    # Convert to TensorFlow Datasets\n",
    "    dataset = tf.data.Dataset.from_tensor_slices((images, labels))\n",
    "    \n",
    "    # Shuffle, repeat, and batch\n",
    "    dataset = dataset.shuffle(buffer_size=1000).batch(batch_size).prefetch(tf.data.experimental.AUTOTUNE)\n",
    "    \n",
    "    return dataset\n",
    "\n",
    "# Prepare the datasets\n",
    "input_dir = 'yoga_combined'\n",
    "train_ds = prepare_data(input_dir)\n",
    "valid_ds = prepare_data(input_dir)\n"
   ]
  },
  {
   "cell_type": "code",
   "execution_count": 103,
   "metadata": {},
   "outputs": [],
   "source": [
    "from tensorflow.keras import layers, models\n",
    "from tensorflow.keras.applications import MobileNetV2\n",
    "\n",
    "def build_model():\n",
    "    base_model = MobileNetV2(weights='imagenet', include_top=False, input_shape=(224, 224, 3))\n",
    "    base_model.trainable = False  # Freeze the base model\n",
    "\n",
    "    model = models.Sequential([\n",
    "        base_model,\n",
    "        layers.GlobalAveragePooling2D(),\n",
    "        layers.Dense(128, activation='relu'),\n",
    "        layers.Dense(6, activation='softmax')  # Output layer for 6 classes\n",
    "    ])\n",
    "    \n",
    "    model.compile(optimizer='adam', loss='sparse_categorical_crossentropy', metrics=['accuracy'])\n",
    "    \n",
    "    return model\n",
    "\n",
    "# Build the model\n",
    "model = build_model()\n"
   ]
  },
  {
   "cell_type": "code",
   "execution_count": 104,
   "metadata": {},
   "outputs": [
    {
     "name": "stdout",
     "output_type": "stream",
     "text": [
      "Epoch 1/10\n",
      "\u001b[1m73/73\u001b[0m \u001b[32m━━━━━━━━━━━━━━━━━━━━\u001b[0m\u001b[37m\u001b[0m \u001b[1m166s\u001b[0m 2s/step - accuracy: 0.6073 - loss: 1.2083 - val_accuracy: 0.9224 - val_loss: 0.2571\n",
      "Epoch 2/10\n",
      "\u001b[1m73/73\u001b[0m \u001b[32m━━━━━━━━━━━━━━━━━━━━\u001b[0m\u001b[37m\u001b[0m \u001b[1m144s\u001b[0m 2s/step - accuracy: 0.9366 - loss: 0.2076 - val_accuracy: 0.9815 - val_loss: 0.0874\n",
      "Epoch 3/10\n",
      "\u001b[1m73/73\u001b[0m \u001b[32m━━━━━━━━━━━━━━━━━━━━\u001b[0m\u001b[37m\u001b[0m \u001b[1m137s\u001b[0m 2s/step - accuracy: 0.9790 - loss: 0.0859 - val_accuracy: 0.9897 - val_loss: 0.0674\n",
      "Epoch 4/10\n",
      "\u001b[1m73/73\u001b[0m \u001b[32m━━━━━━━━━━━━━━━━━━━━\u001b[0m\u001b[37m\u001b[0m \u001b[1m127s\u001b[0m 2s/step - accuracy: 0.9869 - loss: 0.0593 - val_accuracy: 0.9931 - val_loss: 0.0415\n",
      "Epoch 5/10\n",
      "\u001b[1m73/73\u001b[0m \u001b[32m━━━━━━━━━━━━━━━━━━━━\u001b[0m\u001b[37m\u001b[0m \u001b[1m139s\u001b[0m 2s/step - accuracy: 0.9891 - loss: 0.0408 - val_accuracy: 0.9996 - val_loss: 0.0187\n",
      "Epoch 6/10\n",
      "\u001b[1m73/73\u001b[0m \u001b[32m━━━━━━━━━━━━━━━━━━━━\u001b[0m\u001b[37m\u001b[0m \u001b[1m140s\u001b[0m 2s/step - accuracy: 0.9997 - loss: 0.0167 - val_accuracy: 1.0000 - val_loss: 0.0129\n",
      "Epoch 7/10\n",
      "\u001b[1m73/73\u001b[0m \u001b[32m━━━━━━━━━━━━━━━━━━━━\u001b[0m\u001b[37m\u001b[0m \u001b[1m123s\u001b[0m 2s/step - accuracy: 1.0000 - loss: 0.0146 - val_accuracy: 1.0000 - val_loss: 0.0099\n",
      "Epoch 8/10\n",
      "\u001b[1m73/73\u001b[0m \u001b[32m━━━━━━━━━━━━━━━━━━━━\u001b[0m\u001b[37m\u001b[0m \u001b[1m132s\u001b[0m 2s/step - accuracy: 1.0000 - loss: 0.0115 - val_accuracy: 1.0000 - val_loss: 0.0071\n",
      "Epoch 9/10\n",
      "\u001b[1m73/73\u001b[0m \u001b[32m━━━━━━━━━━━━━━━━━━━━\u001b[0m\u001b[37m\u001b[0m \u001b[1m134s\u001b[0m 2s/step - accuracy: 1.0000 - loss: 0.0071 - val_accuracy: 1.0000 - val_loss: 0.0058\n",
      "Epoch 10/10\n",
      "\u001b[1m73/73\u001b[0m \u001b[32m━━━━━━━━━━━━━━━━━━━━\u001b[0m\u001b[37m\u001b[0m \u001b[1m130s\u001b[0m 2s/step - accuracy: 1.0000 - loss: 0.0057 - val_accuracy: 1.0000 - val_loss: 0.0047\n"
     ]
    }
   ],
   "source": [
    "def train_model(model, train_ds, valid_ds, epochs=10):\n",
    "    history = model.fit(\n",
    "        train_ds,\n",
    "        validation_data=valid_ds,\n",
    "        epochs=epochs\n",
    "    )\n",
    "    return history\n",
    "\n",
    "# Train the model\n",
    "history = train_model(model, train_ds, valid_ds)\n"
   ]
  },
  {
   "cell_type": "code",
   "execution_count": 105,
   "metadata": {},
   "outputs": [
    {
     "name": "stdout",
     "output_type": "stream",
     "text": [
      "\u001b[1m73/73\u001b[0m \u001b[32m━━━━━━━━━━━━━━━━━━━━\u001b[0m\u001b[37m\u001b[0m \u001b[1m70s\u001b[0m 954ms/step - accuracy: 1.0000 - loss: 0.0045\n",
      "Validation loss: 0.004691411275416613\n",
      "Validation accuracy: 1.0\n"
     ]
    }
   ],
   "source": [
    "def evaluate_model(model, valid_ds):\n",
    "    results = model.evaluate(valid_ds)\n",
    "    print(f\"Validation loss: {results[0]}\")\n",
    "    print(f\"Validation accuracy: {results[1]}\")\n",
    "\n",
    "# Evaluate the model on the validation dataset\n",
    "evaluate_model(model, valid_ds)\n"
   ]
  },
  {
   "cell_type": "code",
   "execution_count": 109,
   "metadata": {},
   "outputs": [],
   "source": [
    "def prepare_data(input_dir, batch_size=32, img_size=(224, 224)):\n",
    "    # Define paths for training, validation, and test data\n",
    "    train_dir = os.path.join(input_dir, 'train')\n",
    "    valid_dir = os.path.join(input_dir, 'valid')\n",
    "    test_dir = os.path.join(input_dir, 'test')  # Assuming you have a separate test folder\n",
    "    \n",
    "    # Load data using ImageDataGenerator\n",
    "    train_datagen = tf.keras.preprocessing.image.ImageDataGenerator(rescale=1./255)\n",
    "    valid_datagen = tf.keras.preprocessing.image.ImageDataGenerator(rescale=1./255)\n",
    "    test_datagen = tf.keras.preprocessing.image.ImageDataGenerator(rescale=1./255)\n",
    "\n",
    "    # Prepare datasets\n",
    "    train_ds = train_datagen.flow_from_directory(\n",
    "        train_dir,\n",
    "        target_size=img_size,\n",
    "        batch_size=batch_size,\n",
    "        class_mode='sparse'\n",
    "    )\n",
    "    \n",
    "    valid_ds = valid_datagen.flow_from_directory(\n",
    "        valid_dir,\n",
    "        target_size=img_size,\n",
    "        batch_size=batch_size,\n",
    "        class_mode='sparse'\n",
    "    )\n",
    "    \n",
    "    test_ds = test_datagen.flow_from_directory(\n",
    "        test_dir,\n",
    "        target_size=img_size,\n",
    "        batch_size=batch_size,\n",
    "        class_mode='sparse'\n",
    "    )\n",
    "    \n",
    "    return train_ds, valid_ds, test_ds\n"
   ]
  },
  {
   "cell_type": "code",
   "execution_count": 110,
   "metadata": {},
   "outputs": [
    {
     "name": "stdout",
     "output_type": "stream",
     "text": [
      "Found 1718 images belonging to 6 classes.\n",
      "Found 300 images belonging to 6 classes.\n",
      "Found 302 images belonging to 6 classes.\n"
     ]
    }
   ],
   "source": [
    "train_ds, valid_ds, test_ds = prepare_data(input_dir)\n"
   ]
  },
  {
   "cell_type": "code",
   "execution_count": 111,
   "metadata": {},
   "outputs": [
    {
     "name": "stderr",
     "output_type": "stream",
     "text": [
      "c:\\Users\\HP\\anaconda3\\envs\\pose\\lib\\site-packages\\keras\\src\\trainers\\data_adapters\\py_dataset_adapter.py:121: UserWarning: Your `PyDataset` class should call `super().__init__(**kwargs)` in its constructor. `**kwargs` can include `workers`, `use_multiprocessing`, `max_queue_size`. Do not pass these arguments to `fit()`, as they will be ignored.\n",
      "  self._warn_if_super_not_called()\n"
     ]
    },
    {
     "name": "stdout",
     "output_type": "stream",
     "text": [
      "\u001b[1m 5/10\u001b[0m \u001b[32m━━━━━━━━━━\u001b[0m\u001b[37m━━━━━━━━━━\u001b[0m \u001b[1m7s\u001b[0m 2s/step - accuracy: 1.0000 - loss: 0.0038"
     ]
    },
    {
     "name": "stderr",
     "output_type": "stream",
     "text": [
      "c:\\Users\\HP\\anaconda3\\envs\\pose\\lib\\site-packages\\PIL\\Image.py:1054: UserWarning: Palette images with Transparency expressed in bytes should be converted to RGBA images\n",
      "  warnings.warn(\n"
     ]
    },
    {
     "name": "stdout",
     "output_type": "stream",
     "text": [
      "\u001b[1m10/10\u001b[0m \u001b[32m━━━━━━━━━━━━━━━━━━━━\u001b[0m\u001b[37m\u001b[0m \u001b[1m21s\u001b[0m 1s/step - accuracy: 1.0000 - loss: 0.0058\n",
      "Test loss: 0.008419248275458813\n",
      "Test accuracy: 1.0\n"
     ]
    }
   ],
   "source": [
    "def evaluate_model_on_test(model, test_ds):\n",
    "    results = model.evaluate(test_ds)\n",
    "    print(f\"Test loss: {results[0]}\")\n",
    "    print(f\"Test accuracy: {results[1]}\")\n",
    "\n",
    "# Assuming you have a test dataset ready, you can call:\n",
    "evaluate_model_on_test(model, test_ds)\n",
    "\n"
   ]
  },
  {
   "cell_type": "code",
   "execution_count": 112,
   "metadata": {},
   "outputs": [
    {
     "name": "stdout",
     "output_type": "stream",
     "text": [
      "\u001b[1m10/10\u001b[0m \u001b[32m━━━━━━━━━━━━━━━━━━━━\u001b[0m\u001b[37m\u001b[0m \u001b[1m14s\u001b[0m 1s/step - accuracy: 1.0000 - loss: 0.0065\n",
      "Test loss: 0.008419249206781387\n",
      "Test accuracy: 1.0\n"
     ]
    }
   ],
   "source": [
    "# Assuming you have a test dataset prepared\n",
    "evaluate_model_on_test(model, test_ds)\n"
   ]
  },
  {
   "cell_type": "code",
   "execution_count": 113,
   "metadata": {},
   "outputs": [
    {
     "name": "stderr",
     "output_type": "stream",
     "text": [
      "WARNING:absl:You are saving your model as an HDF5 file via `model.save()` or `keras.saving.save_model(model)`. This file format is considered legacy. We recommend using instead the native Keras format, e.g. `model.save('my_model.keras')` or `keras.saving.save_model(model, 'my_model.keras')`. \n"
     ]
    }
   ],
   "source": [
    "# Save the trained model\n",
    "model.save('yoga_pose_detection_model.h5')\n"
   ]
  },
  {
   "cell_type": "code",
   "execution_count": 114,
   "metadata": {},
   "outputs": [
    {
     "name": "stderr",
     "output_type": "stream",
     "text": [
      "WARNING:absl:You are saving your model as an HDF5 file via `model.save()` or `keras.saving.save_model(model)`. This file format is considered legacy. We recommend using instead the native Keras format, e.g. `model.save('my_model.keras')` or `keras.saving.save_model(model, 'my_model.keras')`. \n"
     ]
    }
   ],
   "source": [
    "model.save('yoga_pose_detection_model.h5')\n"
   ]
  },
  {
   "cell_type": "code",
   "execution_count": 115,
   "metadata": {},
   "outputs": [],
   "source": [
    "model.save('yoga_pose_detection_model.keras')\n"
   ]
  }
 ],
 "metadata": {
  "kernelspec": {
   "display_name": "pose",
   "language": "python",
   "name": "python3"
  },
  "language_info": {
   "codemirror_mode": {
    "name": "ipython",
    "version": 3
   },
   "file_extension": ".py",
   "mimetype": "text/x-python",
   "name": "python",
   "nbconvert_exporter": "python",
   "pygments_lexer": "ipython3",
   "version": "3.9.20"
  }
 },
 "nbformat": 4,
 "nbformat_minor": 2
}
